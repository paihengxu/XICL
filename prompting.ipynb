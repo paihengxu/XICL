{
 "cells": [
  {
   "cell_type": "markdown",
   "id": "154a764e",
   "metadata": {},
   "source": [
    "# Reading data"
   ]
  },
  {
   "cell_type": "code",
   "execution_count": 9,
   "id": "46f8e882",
   "metadata": {},
   "outputs": [],
   "source": [
    "import pandas as pd\n",
    "import time\n",
    "from transformers import GPT2LMHeadModel, GPT2Tokenizer\n",
    "from transformers import AutoModelForSequenceClassification, AutoTokenizer, pipeline\n",
    "data = pd.read_csv('project.csv')\n",
    "texts = data['texts'][:292]\n",
    "labels = data['labels'][:292]"
   ]
  },
  {
   "cell_type": "code",
   "execution_count": 10,
   "id": "6347a6a8",
   "metadata": {},
   "outputs": [],
   "source": [
    "# Indecies used for demostration\n",
    "demo_idx = [20, 50, 108, 83, 15, 33, 93, 120]"
   ]
  },
  {
   "cell_type": "markdown",
   "id": "d3a1d022",
   "metadata": {},
   "source": [
    "# Demo prompts for flipping label, input perturbation, complementary explanation"
   ]
  },
  {
   "cell_type": "code",
   "execution_count": 3,
   "id": "b2245573",
   "metadata": {},
   "outputs": [],
   "source": [
    "from demos import flipping, original, perturbation, complementary"
   ]
  },
  {
   "cell_type": "code",
   "execution_count": 22,
   "id": "ed7c5ba8",
   "metadata": {},
   "outputs": [],
   "source": [
    "import openai,os,sys\n",
    "\n",
    "def chatgpt(texts, api_key, demo_prompts):\n",
    "    openai.api_key = api_key\n",
    "    chatgpt_answers = []\n",
    "\n",
    "    for i in range(0, len(texts)):\n",
    "        message = {demo_prompts + 'Review:' + texts[i] + '\\nlabel:'}\n",
    "        try:\n",
    "            chat_completion = openai.ChatCompletion.create(\n",
    "                        model=\"gpt-3.5-turbo\",\n",
    "                        messages=[message]\n",
    "            )\n",
    "            answer = chat_completion.choices[0].message.content\n",
    "            chatgpt_answers.append(answer)\n",
    "            # print(f\"ChatGPT: {answer}\")\n",
    "        except:\n",
    "            time.sleep(75)\n",
    "            chat_completion = openai.ChatCompletion.create(\n",
    "                        model=\"gpt-3.5-turbo\",\n",
    "                        messages=[message]\n",
    "            )\n",
    "            answer = chat_completion.choices[0].message.content\n",
    "            chatgpt_answers.append(answer)\n",
    "\n",
    "    return chatgpt_answers "
   ]
  },
  {
   "cell_type": "code",
   "execution_count": 23,
   "id": "78a6d652",
   "metadata": {},
   "outputs": [],
   "source": [
    "def gpt3(texts, api_key, demo_prompts):\n",
    "    openai.api_key = api_key\n",
    "    openai.Engine.list()\n",
    "    gpt3_answers = []\n",
    "    for i in range(0, len(texts)):\n",
    "        message = {demo_prompts + 'Review:' + texts[i] + '\\nlabel:'}\n",
    "        \n",
    "        response = openai.Completion.create(\n",
    "            engine=\"text-davinci-002\",\n",
    "            prompt=prompt,\n",
    "            temperature=0.1,\n",
    "            max_tokens=50,\n",
    "            top_p=1,\n",
    "            frequency_penalty=0.0,\n",
    "            presence_penalty=0.0,\n",
    "            # stop=[\"\\n\"]\n",
    "          )\n",
    "        print(response['choices'][0]['text'])\n",
    "        gpt3_answers.append(response['choices'][0]['text'].replace('\\n', '').replace(' ', ''))\n",
    "    # model_answers.append(response)\n",
    "    return response"
   ]
  },
  {
   "cell_type": "code",
   "execution_count": 24,
   "id": "5ebfe56b",
   "metadata": {},
   "outputs": [],
   "source": [
    "def bert(texts, api_key, demo_prompts):\n",
    "    # Load a pre-trained BERT model and tokenizer\n",
    "    model_name = \"distilbert-base-uncased-finetuned-sst-2-english\"\n",
    "    model = AutoModelForSequenceClassification.from_pretrained(model_name)\n",
    "    tokenizer = AutoTokenizer.from_pretrained(model_name)\n",
    "\n",
    "    # Create a sentiment analysis pipeline\n",
    "    sentiment_pipeline = pipeline(\"sentiment-analysis\", model=model, tokenizer=tokenizer)\n",
    "    \n",
    "    bert_answer = []\n",
    "    for i in range(0, len(texts)):\n",
    "        message = demo_prompts + 'Review:' + texts[i] + '\\nlabel:'\n",
    "        result = sentiment_pipeline(message)\n",
    "        sentiment = result[0][\"label\"].lower()\n",
    "        bert_answer.append(sentiment)\n",
    "    \n",
    "    return bert_answer"
   ]
  },
  {
   "cell_type": "code",
   "execution_count": 26,
   "id": "2e81fe90",
   "metadata": {},
   "outputs": [],
   "source": [
    "from transformers import GPT2LMHeadModel, GPT2Tokenizer, pipeline\n",
    "def roberta(texts, api_key, demo_prompts):\n",
    "    model_name = \"textattack/roberta-base-SST-2\"\n",
    "    model = AutoModelForSequenceClassification.from_pretrained(model_name)\n",
    "    tokenizer = AutoTokenizer.from_pretrained(model_name)\n",
    "    \n",
    "    sentiment_pipeline = pipeline(\"sentiment-analysis\", model=model, tokenizer=tokenizer)\n",
    "    \n",
    "    roberta_answer = []\n",
    "    for i in range(0, len(texts)):\n",
    "        message = demo_prompts + 'Review:' + texts[i] + '\\nlabel:'\n",
    "        result = sentiment_pipeline(message)\n",
    "        sentiment = result[0][\"label\"].lower()\n",
    "        if sentiment == 'label_1':\n",
    "            roberta_answer.append('negative')\n",
    "        else:\n",
    "            roberta_answer.append('positive')\n",
    "    \n",
    "    return roberta_answer"
   ]
  },
  {
   "cell_type": "markdown",
   "id": "d8baac1b",
   "metadata": {},
   "source": [
    "# Calculate results for different input prompts and models"
   ]
  },
  {
   "cell_type": "code",
   "execution_count": 27,
   "id": "8dcb8cf3",
   "metadata": {},
   "outputs": [
    {
     "ename": "KeyboardInterrupt",
     "evalue": "",
     "output_type": "error",
     "traceback": [
      "\u001b[0;31m---------------------------------------------------------------------------\u001b[0m",
      "\u001b[0;31mTypeError\u001b[0m                                 Traceback (most recent call last)",
      "\u001b[0;32m/var/folders/xq/1kk_rbdx02db5wnrjs1lsrb80000gn/T/ipykernel_10529/2711995943.py\u001b[0m in \u001b[0;36mchatgpt\u001b[0;34m(texts, api_key, demo_prompts)\u001b[0m\n\u001b[1;32m      9\u001b[0m         \u001b[0;32mtry\u001b[0m\u001b[0;34m:\u001b[0m\u001b[0;34m\u001b[0m\u001b[0;34m\u001b[0m\u001b[0m\n\u001b[0;32m---> 10\u001b[0;31m             chat_completion = openai.ChatCompletion.create(\n\u001b[0m\u001b[1;32m     11\u001b[0m                         \u001b[0mmodel\u001b[0m\u001b[0;34m=\u001b[0m\u001b[0;34m\"gpt-3.5-turbo\"\u001b[0m\u001b[0;34m,\u001b[0m\u001b[0;34m\u001b[0m\u001b[0;34m\u001b[0m\u001b[0m\n",
      "\u001b[0;32m~/opt/anaconda3/lib/python3.9/site-packages/openai/api_resources/chat_completion.py\u001b[0m in \u001b[0;36mcreate\u001b[0;34m(cls, *args, **kwargs)\u001b[0m\n\u001b[1;32m     24\u001b[0m             \u001b[0;32mtry\u001b[0m\u001b[0;34m:\u001b[0m\u001b[0;34m\u001b[0m\u001b[0;34m\u001b[0m\u001b[0m\n\u001b[0;32m---> 25\u001b[0;31m                 \u001b[0;32mreturn\u001b[0m \u001b[0msuper\u001b[0m\u001b[0;34m(\u001b[0m\u001b[0;34m)\u001b[0m\u001b[0;34m.\u001b[0m\u001b[0mcreate\u001b[0m\u001b[0;34m(\u001b[0m\u001b[0;34m*\u001b[0m\u001b[0margs\u001b[0m\u001b[0;34m,\u001b[0m \u001b[0;34m**\u001b[0m\u001b[0mkwargs\u001b[0m\u001b[0;34m)\u001b[0m\u001b[0;34m\u001b[0m\u001b[0;34m\u001b[0m\u001b[0m\n\u001b[0m\u001b[1;32m     26\u001b[0m             \u001b[0;32mexcept\u001b[0m \u001b[0mTryAgain\u001b[0m \u001b[0;32mas\u001b[0m \u001b[0me\u001b[0m\u001b[0;34m:\u001b[0m\u001b[0;34m\u001b[0m\u001b[0;34m\u001b[0m\u001b[0m\n",
      "\u001b[0;32m~/opt/anaconda3/lib/python3.9/site-packages/openai/api_resources/abstract/engine_api_resource.py\u001b[0m in \u001b[0;36mcreate\u001b[0;34m(cls, api_key, api_base, api_type, request_id, api_version, organization, **params)\u001b[0m\n\u001b[1;32m    152\u001b[0m \u001b[0;34m\u001b[0m\u001b[0m\n\u001b[0;32m--> 153\u001b[0;31m         response, _, api_key = requestor.request(\n\u001b[0m\u001b[1;32m    154\u001b[0m             \u001b[0;34m\"post\"\u001b[0m\u001b[0;34m,\u001b[0m\u001b[0;34m\u001b[0m\u001b[0;34m\u001b[0m\u001b[0m\n",
      "\u001b[0;32m~/opt/anaconda3/lib/python3.9/site-packages/openai/api_requestor.py\u001b[0m in \u001b[0;36mrequest\u001b[0;34m(self, method, url, params, headers, files, stream, request_id, request_timeout)\u001b[0m\n\u001b[1;32m    215\u001b[0m     ) -> Tuple[Union[OpenAIResponse, Iterator[OpenAIResponse]], bool, str]:\n\u001b[0;32m--> 216\u001b[0;31m         result = self.request_raw(\n\u001b[0m\u001b[1;32m    217\u001b[0m             \u001b[0mmethod\u001b[0m\u001b[0;34m.\u001b[0m\u001b[0mlower\u001b[0m\u001b[0;34m(\u001b[0m\u001b[0;34m)\u001b[0m\u001b[0;34m,\u001b[0m\u001b[0;34m\u001b[0m\u001b[0;34m\u001b[0m\u001b[0m\n",
      "\u001b[0;32m~/opt/anaconda3/lib/python3.9/site-packages/openai/api_requestor.py\u001b[0m in \u001b[0;36mrequest_raw\u001b[0;34m(self, method, url, params, supplied_headers, files, stream, request_id, request_timeout)\u001b[0m\n\u001b[1;32m    508\u001b[0m     ) -> requests.Response:\n\u001b[0;32m--> 509\u001b[0;31m         abs_url, headers, data = self._prepare_request_raw(\n\u001b[0m\u001b[1;32m    510\u001b[0m             \u001b[0murl\u001b[0m\u001b[0;34m,\u001b[0m \u001b[0msupplied_headers\u001b[0m\u001b[0;34m,\u001b[0m \u001b[0mmethod\u001b[0m\u001b[0;34m,\u001b[0m \u001b[0mparams\u001b[0m\u001b[0;34m,\u001b[0m \u001b[0mfiles\u001b[0m\u001b[0;34m,\u001b[0m \u001b[0mrequest_id\u001b[0m\u001b[0;34m\u001b[0m\u001b[0;34m\u001b[0m\u001b[0m\n",
      "\u001b[0;32m~/opt/anaconda3/lib/python3.9/site-packages/openai/api_requestor.py\u001b[0m in \u001b[0;36m_prepare_request_raw\u001b[0;34m(self, url, supplied_headers, method, params, files, request_id)\u001b[0m\n\u001b[1;32m    480\u001b[0m             \u001b[0;32mif\u001b[0m \u001b[0mparams\u001b[0m \u001b[0;32mand\u001b[0m \u001b[0;32mnot\u001b[0m \u001b[0mfiles\u001b[0m\u001b[0;34m:\u001b[0m\u001b[0;34m\u001b[0m\u001b[0;34m\u001b[0m\u001b[0m\n\u001b[0;32m--> 481\u001b[0;31m                 \u001b[0mdata\u001b[0m \u001b[0;34m=\u001b[0m \u001b[0mjson\u001b[0m\u001b[0;34m.\u001b[0m\u001b[0mdumps\u001b[0m\u001b[0;34m(\u001b[0m\u001b[0mparams\u001b[0m\u001b[0;34m)\u001b[0m\u001b[0;34m.\u001b[0m\u001b[0mencode\u001b[0m\u001b[0;34m(\u001b[0m\u001b[0;34m)\u001b[0m\u001b[0;34m\u001b[0m\u001b[0;34m\u001b[0m\u001b[0m\n\u001b[0m\u001b[1;32m    482\u001b[0m                 \u001b[0mheaders\u001b[0m\u001b[0;34m[\u001b[0m\u001b[0;34m\"Content-Type\"\u001b[0m\u001b[0;34m]\u001b[0m \u001b[0;34m=\u001b[0m \u001b[0;34m\"application/json\"\u001b[0m\u001b[0;34m\u001b[0m\u001b[0;34m\u001b[0m\u001b[0m\n",
      "\u001b[0;32m~/opt/anaconda3/lib/python3.9/json/__init__.py\u001b[0m in \u001b[0;36mdumps\u001b[0;34m(obj, skipkeys, ensure_ascii, check_circular, allow_nan, cls, indent, separators, default, sort_keys, **kw)\u001b[0m\n\u001b[1;32m    230\u001b[0m         default is None and not sort_keys and not kw):\n\u001b[0;32m--> 231\u001b[0;31m         \u001b[0;32mreturn\u001b[0m \u001b[0m_default_encoder\u001b[0m\u001b[0;34m.\u001b[0m\u001b[0mencode\u001b[0m\u001b[0;34m(\u001b[0m\u001b[0mobj\u001b[0m\u001b[0;34m)\u001b[0m\u001b[0;34m\u001b[0m\u001b[0;34m\u001b[0m\u001b[0m\n\u001b[0m\u001b[1;32m    232\u001b[0m     \u001b[0;32mif\u001b[0m \u001b[0mcls\u001b[0m \u001b[0;32mis\u001b[0m \u001b[0;32mNone\u001b[0m\u001b[0;34m:\u001b[0m\u001b[0;34m\u001b[0m\u001b[0;34m\u001b[0m\u001b[0m\n",
      "\u001b[0;32m~/opt/anaconda3/lib/python3.9/json/encoder.py\u001b[0m in \u001b[0;36mencode\u001b[0;34m(self, o)\u001b[0m\n\u001b[1;32m    198\u001b[0m         \u001b[0;31m# equivalent to the PySequence_Fast that ''.join() would do.\u001b[0m\u001b[0;34m\u001b[0m\u001b[0;34m\u001b[0m\u001b[0m\n\u001b[0;32m--> 199\u001b[0;31m         \u001b[0mchunks\u001b[0m \u001b[0;34m=\u001b[0m \u001b[0mself\u001b[0m\u001b[0;34m.\u001b[0m\u001b[0miterencode\u001b[0m\u001b[0;34m(\u001b[0m\u001b[0mo\u001b[0m\u001b[0;34m,\u001b[0m \u001b[0m_one_shot\u001b[0m\u001b[0;34m=\u001b[0m\u001b[0;32mTrue\u001b[0m\u001b[0;34m)\u001b[0m\u001b[0;34m\u001b[0m\u001b[0;34m\u001b[0m\u001b[0m\n\u001b[0m\u001b[1;32m    200\u001b[0m         \u001b[0;32mif\u001b[0m \u001b[0;32mnot\u001b[0m \u001b[0misinstance\u001b[0m\u001b[0;34m(\u001b[0m\u001b[0mchunks\u001b[0m\u001b[0;34m,\u001b[0m \u001b[0;34m(\u001b[0m\u001b[0mlist\u001b[0m\u001b[0;34m,\u001b[0m \u001b[0mtuple\u001b[0m\u001b[0;34m)\u001b[0m\u001b[0;34m)\u001b[0m\u001b[0;34m:\u001b[0m\u001b[0;34m\u001b[0m\u001b[0;34m\u001b[0m\u001b[0m\n",
      "\u001b[0;32m~/opt/anaconda3/lib/python3.9/json/encoder.py\u001b[0m in \u001b[0;36miterencode\u001b[0;34m(self, o, _one_shot)\u001b[0m\n\u001b[1;32m    256\u001b[0m                 self.skipkeys, _one_shot)\n\u001b[0;32m--> 257\u001b[0;31m         \u001b[0;32mreturn\u001b[0m \u001b[0m_iterencode\u001b[0m\u001b[0;34m(\u001b[0m\u001b[0mo\u001b[0m\u001b[0;34m,\u001b[0m \u001b[0;36m0\u001b[0m\u001b[0;34m)\u001b[0m\u001b[0;34m\u001b[0m\u001b[0;34m\u001b[0m\u001b[0m\n\u001b[0m\u001b[1;32m    258\u001b[0m \u001b[0;34m\u001b[0m\u001b[0m\n",
      "\u001b[0;32m~/opt/anaconda3/lib/python3.9/json/encoder.py\u001b[0m in \u001b[0;36mdefault\u001b[0;34m(self, o)\u001b[0m\n\u001b[1;32m    178\u001b[0m         \"\"\"\n\u001b[0;32m--> 179\u001b[0;31m         raise TypeError(f'Object of type {o.__class__.__name__} '\n\u001b[0m\u001b[1;32m    180\u001b[0m                         f'is not JSON serializable')\n",
      "\u001b[0;31mTypeError\u001b[0m: Object of type set is not JSON serializable",
      "\nDuring handling of the above exception, another exception occurred:\n",
      "\u001b[0;31mKeyboardInterrupt\u001b[0m                         Traceback (most recent call last)",
      "\u001b[0;32m/var/folders/xq/1kk_rbdx02db5wnrjs1lsrb80000gn/T/ipykernel_10529/3167769810.py\u001b[0m in \u001b[0;36m<module>\u001b[0;34m\u001b[0m\n\u001b[1;32m      9\u001b[0m \u001b[0;34m\u001b[0m\u001b[0m\n\u001b[1;32m     10\u001b[0m \u001b[0;32mfor\u001b[0m \u001b[0mi\u001b[0m\u001b[0;34m,\u001b[0m \u001b[0mprompt\u001b[0m \u001b[0;32min\u001b[0m \u001b[0menumerate\u001b[0m\u001b[0;34m(\u001b[0m\u001b[0minput_prompts\u001b[0m\u001b[0;34m)\u001b[0m\u001b[0;34m:\u001b[0m\u001b[0;34m\u001b[0m\u001b[0;34m\u001b[0m\u001b[0m\n\u001b[0;32m---> 11\u001b[0;31m     \u001b[0mchatgpt_result\u001b[0m \u001b[0;34m=\u001b[0m \u001b[0mchatgpt\u001b[0m\u001b[0;34m(\u001b[0m\u001b[0mtexts\u001b[0m\u001b[0;34m,\u001b[0m \u001b[0mAPI_KEY\u001b[0m\u001b[0;34m,\u001b[0m \u001b[0mprompt\u001b[0m\u001b[0;34m)\u001b[0m\u001b[0;34m\u001b[0m\u001b[0;34m\u001b[0m\u001b[0m\n\u001b[0m\u001b[1;32m     12\u001b[0m     \u001b[0mgpt3_result\u001b[0m \u001b[0;34m=\u001b[0m \u001b[0mgpt3\u001b[0m\u001b[0;34m(\u001b[0m\u001b[0mtexts\u001b[0m\u001b[0;34m,\u001b[0m \u001b[0mAPI_KEY\u001b[0m\u001b[0;34m,\u001b[0m \u001b[0mprompt\u001b[0m\u001b[0;34m)\u001b[0m\u001b[0;34m\u001b[0m\u001b[0;34m\u001b[0m\u001b[0m\n\u001b[1;32m     13\u001b[0m     \u001b[0mbert_result\u001b[0m \u001b[0;34m=\u001b[0m \u001b[0mbert\u001b[0m\u001b[0;34m(\u001b[0m\u001b[0mtexts\u001b[0m\u001b[0;34m,\u001b[0m \u001b[0mAPI_KEY\u001b[0m\u001b[0;34m,\u001b[0m \u001b[0mprompt\u001b[0m\u001b[0;34m)\u001b[0m\u001b[0;34m\u001b[0m\u001b[0;34m\u001b[0m\u001b[0m\n",
      "\u001b[0;32m/var/folders/xq/1kk_rbdx02db5wnrjs1lsrb80000gn/T/ipykernel_10529/2711995943.py\u001b[0m in \u001b[0;36mchatgpt\u001b[0;34m(texts, api_key, demo_prompts)\u001b[0m\n\u001b[1;32m     16\u001b[0m             \u001b[0;31m# print(f\"ChatGPT: {answer}\")\u001b[0m\u001b[0;34m\u001b[0m\u001b[0;34m\u001b[0m\u001b[0m\n\u001b[1;32m     17\u001b[0m         \u001b[0;32mexcept\u001b[0m\u001b[0;34m:\u001b[0m\u001b[0;34m\u001b[0m\u001b[0;34m\u001b[0m\u001b[0m\n\u001b[0;32m---> 18\u001b[0;31m             \u001b[0mtime\u001b[0m\u001b[0;34m.\u001b[0m\u001b[0msleep\u001b[0m\u001b[0;34m(\u001b[0m\u001b[0;36m75\u001b[0m\u001b[0;34m)\u001b[0m\u001b[0;34m\u001b[0m\u001b[0;34m\u001b[0m\u001b[0m\n\u001b[0m\u001b[1;32m     19\u001b[0m             chat_completion = openai.ChatCompletion.create(\n\u001b[1;32m     20\u001b[0m                         \u001b[0mmodel\u001b[0m\u001b[0;34m=\u001b[0m\u001b[0;34m\"gpt-3.5-turbo\"\u001b[0m\u001b[0;34m,\u001b[0m\u001b[0;34m\u001b[0m\u001b[0;34m\u001b[0m\u001b[0m\n",
      "\u001b[0;31mKeyboardInterrupt\u001b[0m: "
     ]
    }
   ],
   "source": [
    "API_KEY = 'your api key'\n",
    "input_prompts = [original, flipping, perturbation, complementary]\n",
    "input_keys = ['original', 'flipping', 'perturbation', 'complementary']\n",
    "\n",
    "project_data = {\n",
    "    'texts':texts,\n",
    "    'labels':labels\n",
    "}\n",
    "\n",
    "for i, prompt in enumerate(input_prompts):\n",
    "    chatgpt_result = chatgpt(texts, API_KEY, prompt)\n",
    "    gpt3_result = gpt3(texts, API_KEY, prompt)\n",
    "    bert_result = bert(texts, API_KEY, prompt)\n",
    "    roberta_result = roberta(texts, API_KEY, prompt)\n",
    "    \n",
    "    project_data['chatgpt_'+input_keys[i]] = chatgpt_result\n",
    "    project_data['gpt3_'+input_keys[i]] = gpt3_result\n",
    "    bert_data['bert_'+input_keys[i]] = bert_result\n",
    "    roberta_data['roberta_'+input_keys[i]] = roberta_result\n",
    "    \n",
    "\n",
    "\n",
    "df = pd.DataFrame(project_data)\n",
    "df.to_csv('model_answers.csv', index=False)"
   ]
  },
  {
   "cell_type": "code",
   "execution_count": null,
   "id": "3c591634",
   "metadata": {},
   "outputs": [],
   "source": []
  }
 ],
 "metadata": {
  "kernelspec": {
   "display_name": "Python 3 (ipykernel)",
   "language": "python",
   "name": "python3"
  },
  "language_info": {
   "codemirror_mode": {
    "name": "ipython",
    "version": 3
   },
   "file_extension": ".py",
   "mimetype": "text/x-python",
   "name": "python",
   "nbconvert_exporter": "python",
   "pygments_lexer": "ipython3",
   "version": "3.9.13"
  }
 },
 "nbformat": 4,
 "nbformat_minor": 5
}
